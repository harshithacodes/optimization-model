{
  "nbformat": 4,
  "nbformat_minor": 0,
  "metadata": {
    "colab": {
      "provenance": []
    },
    "kernelspec": {
      "name": "python3",
      "display_name": "Python 3"
    },
    "language_info": {
      "name": "python"
    }
  },
  "cells": [
    {
      "cell_type": "code",
      "execution_count": 1,
      "metadata": {
        "colab": {
          "base_uri": "https://localhost:8080/"
        },
        "id": "cVDqKWP5Qjbu",
        "outputId": "8cc7d639-004f-4869-9d15-3e7e56ed2bf7"
      },
      "outputs": [
        {
          "output_type": "stream",
          "name": "stdout",
          "text": [
            "Collecting pulp\n",
            "  Downloading pulp-3.2.1-py3-none-any.whl.metadata (6.9 kB)\n",
            "Downloading pulp-3.2.1-py3-none-any.whl (16.4 MB)\n",
            "\u001b[2K   \u001b[90m━━━━━━━━━━━━━━━━━━━━━━━━━━━━━━━━━━━━━━━━\u001b[0m \u001b[32m16.4/16.4 MB\u001b[0m \u001b[31m62.0 MB/s\u001b[0m eta \u001b[36m0:00:00\u001b[0m\n",
            "\u001b[?25hInstalling collected packages: pulp\n",
            "Successfully installed pulp-3.2.1\n",
            "Status: Optimal\n",
            "Optimal number of Product A to produce: 20.0\n",
            "Optimal number of Product B to produce: 60.0\n",
            "Maximum Profit: ₹ 2600.0\n",
            "\n",
            "Insight: Focus more on producing Product B to maximize profit.\n"
          ]
        }
      ],
      "source": [
        "# Factory Production Optimization using Linear Programming (PuLP)\n",
        "\n",
        "# Step 1: Install PuLP\n",
        "!pip install pulp\n",
        "\n",
        "# Step 2: Import Libraries\n",
        "import pulp\n",
        "\n",
        "# Step 3: Define the Linear Programming Problem\n",
        "# Objective: Maximize Profit\n",
        "model = pulp.LpProblem(\"Maximize_Profit\", pulp.LpMaximize)\n",
        "\n",
        "# Decision Variables\n",
        "x = pulp.LpVariable('Product_A', lowBound=0, cat='Continuous')\n",
        "y = pulp.LpVariable('Product_B', lowBound=0, cat='Continuous')\n",
        "\n",
        "# Profit coefficients (in currency units)\n",
        "profit_A = 40  # Profit per unit of Product A\n",
        "profit_B = 30  # Profit per unit of Product B\n",
        "\n",
        "# Objective Function\n",
        "model += profit_A * x + profit_B * y, \"Total_Profit\"\n",
        "\n",
        "# Constraints\n",
        "# Machine Hours Constraint: 2x + 1y <= 100\n",
        "model += 2 * x + 1 * y <= 100, \"Machine_Hours\"\n",
        "\n",
        "# Labor Hours Constraint: 1x + 1y <= 80\n",
        "model += 1 * x + 1 * y <= 80, \"Labor_Hours\"\n",
        "\n",
        "# Step 4: Solve the Problem\n",
        "model.solve()\n",
        "\n",
        "# Step 5: Display Results\n",
        "print(\"Status:\", pulp.LpStatus[model.status])\n",
        "print(f\"Optimal number of Product A to produce: {x.varValue}\")\n",
        "print(f\"Optimal number of Product B to produce: {y.varValue}\")\n",
        "print(f\"Maximum Profit: ₹ {pulp.value(model.objective)}\")\n",
        "\n",
        "# Step 6: Insights\n",
        "if x.varValue > y.varValue:\n",
        "    print(\"\\nInsight: Focus more on producing Product A to maximize profit.\")\n",
        "elif y.varValue > x.varValue:\n",
        "    print(\"\\nInsight: Focus more on producing Product B to maximize profit.\")\n",
        "else:\n",
        "    print(\"\\nInsight: Equal production of both products is optimal.\")\n"
      ]
    }
  ]
}